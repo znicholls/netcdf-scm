{
 "cells": [
  {
   "cell_type": "markdown",
   "metadata": {},
   "source": [
    "# NetCDFSC path handling\n",
    "\n",
    "*Aka data reference syntax handling*\n",
    "\n",
    "For CMIP experiments, the paths in which data is saved is defined by a data reference syntax. These syntax can be hard to remember. However, from a given 'CMIP SCMCube', the expected path can be easily queried in two ways:\n",
    "\n",
    "1. Look at the output of the cubes `get_data_reference_syntax` method\n",
    "    - To see how time period should be included, look at the output of the same method with the relevant 'time period/range' argument (this argument is `None` by default).\n",
    "1. Look at the cube's docstring\n",
    "\n",
    "Note: \n",
    "\n",
    "- the root directory is by default `.` i.e. the current working directory.\n",
    "- the file extension does not include a `.`, you must specify this yourself!\n",
    "\n",
    "The meaning of these arguments is somewhat explained by the cube's property docstrings but [pull requests](https://github.com/znicholls/netcdf-scm/pulls) are always welcome to make these better!\n",
    "\n",
    "In the following cells, we give a few examples for some of the available cubes."
   ]
  },
  {
   "cell_type": "code",
   "execution_count": 1,
   "metadata": {},
   "outputs": [
    {
     "data": {
      "application/javascript": [
       "IPython.OutputArea.prototype._should_scroll = function(lines) { return false; }"
      ],
      "text/plain": [
       "<IPython.core.display.Javascript object>"
      ]
     },
     "metadata": {},
     "output_type": "display_data"
    },
    {
     "name": "stderr",
     "output_type": "stream",
     "text": [
      "can't resolve package from __spec__ or __package__, falling back on __name__ and __path__\n",
      "numpy.ufunc size changed, may indicate binary incompatibility. Expected 192 from C header, got 216 from PyObject\n",
      "Using or importing the ABCs from 'collections' instead of from 'collections.abc' is deprecated, and in 3.8 it will stop working\n",
      "Using or importing the ABCs from 'collections' instead of from 'collections.abc' is deprecated, and in 3.8 it will stop working\n",
      "numpy.dtype size changed, may indicate binary incompatibility. Expected 96, got 88\n",
      "numpy.ufunc size changed, may indicate binary incompatibility. Expected 216, got 192\n"
     ]
    }
   ],
   "source": [
    "# NBVAL_IGNORE_OUTPUT\n",
    "from netcdf_scm import iris_cube_wrappers"
   ]
  },
  {
   "cell_type": "markdown",
   "metadata": {},
   "source": [
    "We can see the full list of available cubes with"
   ]
  },
  {
   "cell_type": "code",
   "execution_count": 2,
   "metadata": {},
   "outputs": [
    {
     "data": {
      "text/plain": [
       "['CMIP6Input4MIPsCube', 'CMIP6OutputCube', 'MarbleCMIP5Cube']"
      ]
     },
     "execution_count": 2,
     "metadata": {},
     "output_type": "execute_result"
    }
   ],
   "source": [
    "[\n",
    "    el for el in dir(iris_cube_wrappers)\n",
    "    if el.endswith(\"Cube\") and not (el.startswith(\"_\") or el.startswith(\"SCM\"))\n",
    "]"
   ]
  },
  {
   "cell_type": "markdown",
   "metadata": {},
   "source": [
    "## CMIP6Input4MIPsCube"
   ]
  },
  {
   "cell_type": "code",
   "execution_count": 3,
   "metadata": {},
   "outputs": [
    {
     "data": {
      "text/plain": [
       "'root-dir/activity-id/mip-era/target-mip/institution-id/source-id/realm/frequency/variable-id/grid-label/version/variable-id_activity-id_dataset-category_target-mip_source-id_grid-label_time-rangefile-ext'"
      ]
     },
     "execution_count": 3,
     "metadata": {},
     "output_type": "execute_result"
    }
   ],
   "source": [
    "from netcdf_scm.iris_cube_wrappers import CMIP6Input4MIPsCube\n",
    "CMIP6Input4MIPsCube.get_data_reference_syntax()"
   ]
  },
  {
   "cell_type": "markdown",
   "metadata": {},
   "source": [
    "Including a `.` in the file extension makes this looks more as expected."
   ]
  },
  {
   "cell_type": "code",
   "execution_count": 4,
   "metadata": {},
   "outputs": [
    {
     "data": {
      "text/plain": [
       "'root-dir/activity-id/mip-era/target-mip/institution-id/source-id/realm/frequency/variable-id/grid-label/version/variable-id_activity-id_dataset-category_target-mip_source-id_grid-label_time-range.nc'"
      ]
     },
     "execution_count": 4,
     "metadata": {},
     "output_type": "execute_result"
    }
   ],
   "source": [
    "CMIP6Input4MIPsCube.get_data_reference_syntax(\n",
    "    file_ext=\".nc\"\n",
    ")"
   ]
  },
  {
   "cell_type": "markdown",
   "metadata": {},
   "source": [
    "Including the time range too completes the picture."
   ]
  },
  {
   "cell_type": "code",
   "execution_count": 5,
   "metadata": {},
   "outputs": [
    {
     "data": {
      "text/plain": [
       "'root-dir/activity-id/mip-era/target-mip/institution-id/source-id/realm/frequency/variable-id/grid-label/version/variable-id_activity-id_dataset-category_target-mip_source-id_grid-label_YYYY-YYYY.nc'"
      ]
     },
     "execution_count": 5,
     "metadata": {},
     "output_type": "execute_result"
    }
   ],
   "source": [
    "CMIP6Input4MIPsCube.get_data_reference_syntax(\n",
    "    time_range=\"YYYY-YYYY\", \n",
    "    file_ext=\".nc\"\n",
    ")"
   ]
  },
  {
   "cell_type": "markdown",
   "metadata": {},
   "source": [
    "Alternately, you can also drop out the time range to see what files look like without it (e.g. surface land-fraction or cell area files)."
   ]
  },
  {
   "cell_type": "code",
   "execution_count": 6,
   "metadata": {},
   "outputs": [
    {
     "data": {
      "text/plain": [
       "'root-dir/activity-id/mip-era/target-mip/institution-id/source-id/realm/frequency/variable-id/grid-label/version/variable-id_activity-id_dataset-category_target-mip_source-id_grid-label.nc'"
      ]
     },
     "execution_count": 6,
     "metadata": {},
     "output_type": "execute_result"
    }
   ],
   "source": [
    "CMIP6Input4MIPsCube.get_data_reference_syntax(\n",
    "    time_range=None, \n",
    "    file_ext=\".nc\"\n",
    ")"
   ]
  },
  {
   "cell_type": "markdown",
   "metadata": {},
   "source": [
    "## MarbleCMIP5Cube"
   ]
  },
  {
   "cell_type": "code",
   "execution_count": 7,
   "metadata": {},
   "outputs": [
    {
     "data": {
      "text/plain": [
       "'root-dir/activity/experiment/mip-table/variable-name/model/ensemble-member/variable-name_mip-table_model_experiment_ensemble-member_YYYY-YYYY.nc'"
      ]
     },
     "execution_count": 7,
     "metadata": {},
     "output_type": "execute_result"
    }
   ],
   "source": [
    "from netcdf_scm.iris_cube_wrappers import MarbleCMIP5Cube\n",
    "MarbleCMIP5Cube.get_data_reference_syntax(\n",
    "    time_period=\"YYYY-YYYY\", \n",
    "    file_ext=\".nc\"\n",
    ")"
   ]
  },
  {
   "cell_type": "markdown",
   "metadata": {},
   "source": [
    "## CMIP6OutputCube"
   ]
  },
  {
   "cell_type": "code",
   "execution_count": 8,
   "metadata": {},
   "outputs": [
    {
     "data": {
      "text/plain": [
       "'root-dir/mip-era/activity-id/institution-id/source-id/experiment-id/member-id/table-id/variable-id/grid-label/version/variable-id_table-id_source-id_experiment-id_member-id_grid-label_YYYY-YYYY.nc'"
      ]
     },
     "execution_count": 8,
     "metadata": {},
     "output_type": "execute_result"
    }
   ],
   "source": [
    "from netcdf_scm.iris_cube_wrappers import CMIP6OutputCube\n",
    "CMIP6OutputCube.get_data_reference_syntax(\n",
    "    time_range=\"YYYY-YYYY\", \n",
    "    file_ext=\".nc\"\n",
    ")"
   ]
  },
  {
   "cell_type": "markdown",
   "metadata": {},
   "source": [
    "Printing the cube's docstring provides the link to the data reference syntax page (between the carets i.e. between the `<` and `>`)."
   ]
  },
  {
   "cell_type": "code",
   "execution_count": 9,
   "metadata": {},
   "outputs": [],
   "source": [
    "# in a notebook, putting a question mark after an object/function/method\n",
    "# is a nice shortcut to see the docstring\n",
    "CMIP6OutputCube?"
   ]
  },
  {
   "cell_type": "code",
   "execution_count": 10,
   "metadata": {},
   "outputs": [
    {
     "name": "stdout",
     "output_type": "stream",
     "text": [
      "\n",
      "    Subclass of ``SCMCube`` which can be used with CMIP6 model output data\n",
      "\n",
      "    The data must match the CMIP6 data reference syntax as specified in the 'File name\n",
      "    template' and 'Directory structure template' sections of the\n",
      "    `CMIP6 Data Reference Syntax <https://goo.gl/v1drZl>`_.\n",
      "    \n"
     ]
    }
   ],
   "source": [
    "print(CMIP6OutputCube.__doc__)"
   ]
  }
 ],
 "metadata": {
  "kernelspec": {
   "display_name": "Python 3",
   "language": "python",
   "name": "python3"
  },
  "language_info": {
   "codemirror_mode": {
    "name": "ipython",
    "version": 3
   },
   "file_extension": ".py",
   "mimetype": "text/x-python",
   "name": "python",
   "nbconvert_exporter": "python",
   "pygments_lexer": "ipython3",
   "version": "3.7.3"
  }
 },
 "nbformat": 4,
 "nbformat_minor": 2
}
