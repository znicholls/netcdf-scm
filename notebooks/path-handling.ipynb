{
 "cells": [
  {
   "cell_type": "markdown",
   "metadata": {},
   "source": [
    "# NetCDFSC path handling\n",
    "\n",
    "*Aka data reference syntax handling*\n",
    "\n",
    "For CMIP experiments, the paths in which data is saved is defined by a data reference syntax. These syntax can be hard to remember. However, from a given subclass of `SCMCube`, the expected path can be easily queried in two ways:\n",
    "\n",
    "1. Look at the default output of the cubes `get_filepath_from_load_data_from_identifiers_args` method\n",
    "    - To see how time period should be included, look at the output of the same method with the relevant 'time period/range' argument (this argument is `None` by default).\n",
    "1. Look at the cube's docstring\n",
    "\n",
    "Note: \n",
    "\n",
    "- the root directory is by default `.` i.e. the current working directory.\n",
    "- the file extension does not include a `.`, you must specify this yourself!\n",
    "\n",
    "The meaning of these arguments is somewhat explained by the docstring of `get_filepath_from_load_data_from_identifiers_args` but [pull request](https://github.com/znicholls/netcdf-scm/pulls) are always welcome to make these better!\n",
    "\n",
    "In the following cells, we give a few examples for some of the available cubes."
   ]
  },
  {
   "cell_type": "markdown",
   "metadata": {},
   "source": [
    "The full list of available cubes is given by"
   ]
  },
  {
   "cell_type": "code",
   "execution_count": 1,
   "metadata": {},
   "outputs": [
    {
     "name": "stdout",
     "output_type": "stream",
     "text": [
      "['CMIP6Input4MIPsCube', 'CMIP6OutputCube', 'MarbleCMIP5Cube', 'SCMCube']\n"
     ]
    }
   ],
   "source": [
    "from netcdf_scm import iris_cube_wrappers\n",
    "print([\n",
    "    el for el in dir(iris_cube_wrappers)\n",
    "    if el.endswith(\"Cube\") and not el.startswith(\"_\")\n",
    "])"
   ]
  },
  {
   "cell_type": "markdown",
   "metadata": {},
   "source": [
    "## CMIP6Input4MIPsCube"
   ]
  },
  {
   "cell_type": "code",
   "execution_count": 2,
   "metadata": {},
   "outputs": [
    {
     "data": {
      "text/plain": [
       "'./activity-id/mip-era/target-mip/institution-id/source-id-including-institution-id/realm/frequency/variable-id/grid-label/version/variable-id_activity-id_dataset-category_target-mip_source-id-including-institution-id_grid-labelfile-ext'"
      ]
     },
     "execution_count": 2,
     "metadata": {},
     "output_type": "execute_result"
    }
   ],
   "source": [
    "from netcdf_scm.iris_cube_wrappers import CMIP6Input4MIPsCube\n",
    "cube_instance = CMIP6Input4MIPsCube()\n",
    "cube_instance.get_filepath_from_load_data_from_identifiers_args()"
   ]
  },
  {
   "cell_type": "markdown",
   "metadata": {},
   "source": [
    "Including a `.` in the file extension makes this looks more as expected."
   ]
  },
  {
   "cell_type": "code",
   "execution_count": 3,
   "metadata": {},
   "outputs": [
    {
     "data": {
      "text/plain": [
       "'./activity-id/mip-era/target-mip/institution-id/source-id-including-institution-id/realm/frequency/variable-id/grid-label/version/variable-id_activity-id_dataset-category_target-mip_source-id-including-institution-id_grid-label.nc'"
      ]
     },
     "execution_count": 3,
     "metadata": {},
     "output_type": "execute_result"
    }
   ],
   "source": [
    "cube_instance.get_filepath_from_load_data_from_identifiers_args(\n",
    "    file_ext=\".nc\"\n",
    ")"
   ]
  },
  {
   "cell_type": "markdown",
   "metadata": {},
   "source": [
    "Including the time range too completes the picture."
   ]
  },
  {
   "cell_type": "code",
   "execution_count": 4,
   "metadata": {},
   "outputs": [
    {
     "data": {
      "text/plain": [
       "'./activity-id/mip-era/target-mip/institution-id/source-id-including-institution-id/realm/frequency/variable-id/grid-label/version/variable-id_activity-id_dataset-category_target-mip_source-id-including-institution-id_grid-label_YYYY-YYYY.nc'"
      ]
     },
     "execution_count": 4,
     "metadata": {},
     "output_type": "execute_result"
    }
   ],
   "source": [
    "cube_instance.get_filepath_from_load_data_from_identifiers_args(\n",
    "    time_range=\"YYYY-YYYY\", \n",
    "    file_ext=\".nc\"\n",
    ")"
   ]
  },
  {
   "cell_type": "markdown",
   "metadata": {},
   "source": [
    "## MarbleCMIP5Cube"
   ]
  },
  {
   "cell_type": "code",
   "execution_count": 5,
   "metadata": {},
   "outputs": [
    {
     "data": {
      "text/plain": [
       "'./activity/experiment/modeling-realm/variable-name/model/ensemble-member/variable-name_modeling-realm_model_experiment_ensemble-member.nc'"
      ]
     },
     "execution_count": 5,
     "metadata": {},
     "output_type": "execute_result"
    }
   ],
   "source": [
    "from netcdf_scm.iris_cube_wrappers import MarbleCMIP5Cube\n",
    "cube_instance = MarbleCMIP5Cube()\n",
    "cube_instance.get_filepath_from_load_data_from_identifiers_args()"
   ]
  },
  {
   "cell_type": "markdown",
   "metadata": {},
   "source": [
    "## CMIP6OutputCube"
   ]
  },
  {
   "cell_type": "code",
   "execution_count": 6,
   "metadata": {},
   "outputs": [
    {
     "data": {
      "text/plain": [
       "'./mip-era/activity-id/institution-id/source-id/experiment-id/member-id/variable-id/grid-label/version/variable-id_table-id_source-id_experiment-id_member-id_grid-labelfile-ext'"
      ]
     },
     "execution_count": 6,
     "metadata": {},
     "output_type": "execute_result"
    }
   ],
   "source": [
    "from netcdf_scm.iris_cube_wrappers import CMIP6OutputCube\n",
    "cube_instance = CMIP6OutputCube()\n",
    "cube_instance.get_filepath_from_load_data_from_identifiers_args()"
   ]
  },
  {
   "cell_type": "markdown",
   "metadata": {},
   "source": [
    "Printing the docstring provides extra information, including the link to the data reference syntax page (between the carets i.e. between the `<` and `>`)."
   ]
  },
  {
   "cell_type": "code",
   "execution_count": 7,
   "metadata": {},
   "outputs": [
    {
     "name": "stdout",
     "output_type": "stream",
     "text": [
      "Get the full filepath of the data to load from the arguments passed to ``self.load_data_from_identifiers``.\n",
      "\n",
      "        Full details about the meaning of each identifier is given in Table 1 of the\n",
      "        `CMIP6 Data Reference Syntax <https://goo.gl/v1drZl>`_.\n",
      "\n",
      "        Parameters\n",
      "        ----------\n",
      "        root_dir : str, optional\n",
      "            The root directory of the database i.e. where the cube should start its\n",
      "            path from e.g. ``/home/users/usertim/cmip6_data``.\n",
      "\n",
      "        mip_era : str, optional\n",
      "            The mip_era for which we want to load data e.g. ``CMIP6``.\n",
      "\n",
      "        activity_id : str, optional\n",
      "            The activity for which we want to load data e.g. ``DCPP``.\n",
      "\n",
      "        institution_id : str, optional\n",
      "            The institution for which we want to load data e.g. ``CNRM-CERFACS``\n",
      "\n",
      "        source_id : str, optional\n",
      "            The source_id for which we want to load data e.g. ``CNRM-CM6-1``. This was\n",
      "            known as model in CMIP5.\n",
      "\n",
      "        experiment_id : str, optional\n",
      "            The experiment_id for which we want to load data e.g. ``dcppA-hindcast``.\n",
      "\n",
      "        member_id : str, optional\n",
      "            The member_id for which we want to load data e.g. ``s1960-r2i1p1f3``.\n",
      "\n",
      "        table_id : str, optional\n",
      "            The table_id for which we want to load data. e.g. ``day``.\n",
      "\n",
      "        variable_id : str, optional\n",
      "            The variable_id for which we want to load data e.g. ``pr``.\n",
      "\n",
      "        grid_label : str, optional\n",
      "            The grid_label for which we want to load data e.g. ``gn``.\n",
      "\n",
      "        version : str, optional\n",
      "            The version for which we want to load data e.g. ``v20160215``.\n",
      "\n",
      "        time_range : str, optional\n",
      "            The time range for which we want to load data e.g. ``198001-198412``. If\n",
      "            ``None``, this information isn't included in the filename which is useful\n",
      "            for loading metadata files which don't have a relevant time period.\n",
      "\n",
      "        file_ext : str, optional\n",
      "            The file extension of the data file we want to load e.g. ``.nc``.\n",
      "\n",
      "        Returns\n",
      "        -------\n",
      "        str\n",
      "            The full filepath (path and name) of the file to load.\n",
      "        \n"
     ]
    }
   ],
   "source": [
    "# in a notebook, putting a question mark after an object/function/method\n",
    "# is a nice shortcut to see the docstring\n",
    "cube_instance.get_filepath_from_load_data_from_identifiers_args?\n",
    "print(cube_instance.get_filepath_from_load_data_from_identifiers_args.__doc__)"
   ]
  },
  {
   "cell_type": "code",
   "execution_count": 8,
   "metadata": {},
   "outputs": [
    {
     "name": "stdout",
     "output_type": "stream",
     "text": [
      "Subclass of ``SCMCube`` which can be used with CMIP6 model output data\n",
      "\n",
      "    The data must match the CMIP6 data reference syntax as specified in the 'File name\n",
      "    template' and 'Directory structure template' sections of the\n",
      "    `CMIP6 Data Reference Syntax <https://goo.gl/v1drZl>`_.\n",
      "    \n"
     ]
    }
   ],
   "source": [
    "CMIP6OutputCube?\n",
    "print(CMIP6OutputCube.__doc__)"
   ]
  }
 ],
 "metadata": {
  "kernelspec": {
   "display_name": "Python 3",
   "language": "python",
   "name": "python3"
  },
  "language_info": {
   "codemirror_mode": {
    "name": "ipython",
    "version": 3
   },
   "file_extension": ".py",
   "mimetype": "text/x-python",
   "name": "python",
   "nbconvert_exporter": "python",
   "pygments_lexer": "ipython3",
   "version": "3.6.6"
  }
 },
 "nbformat": 4,
 "nbformat_minor": 2
}
