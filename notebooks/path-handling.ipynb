{
 "cells": [
  {
   "cell_type": "markdown",
   "metadata": {},
   "source": [
    "# NetCDFSC path handling\n",
    "\n",
    "*Aka data reference syntax handling*\n",
    "\n",
    "For CMIP experiments, the paths in which data is saved is defined by a data reference syntax. These syntax can be hard to remember. However, from a given 'CMIP SCMCube', the expected path can be easily queried in two ways:\n",
    "\n",
    "1. Look at the output of the cubes `get_data_reference_syntax` method\n",
    "    - To see how time period should be included, look at the output of the same method with the relevant 'time period/range' argument (this argument is `None` by default).\n",
    "1. Look at the cube's docstring\n",
    "\n",
    "Note: \n",
    "\n",
    "- the root directory is by default `.` i.e. the current working directory.\n",
    "- the file extension does not include a `.`, you must specify this yourself!\n",
    "\n",
    "The meaning of these arguments is somewhat explained by the cube's property docstrings but [pull requests](https://github.com/znicholls/netcdf-scm/pulls) are always welcome to make these better!\n",
    "\n",
    "In the following cells, we give a few examples for some of the available cubes."
   ]
  },
  {
   "cell_type": "code",
   "execution_count": 7,
   "metadata": {},
   "outputs": [],
   "source": [
    "# NBVAL_IGNORE_OUTPUT\n",
    "from netcdf_scm import iris_cube_wrappers"
   ]
  },
  {
   "cell_type": "markdown",
   "metadata": {},
   "source": [
    "We can see the full list of available cubes with"
   ]
  },
  {
   "cell_type": "code",
   "execution_count": 9,
   "metadata": {},
   "outputs": [
    {
     "data": {
      "text/plain": [
       "['CMIP6Input4MIPsCube', 'CMIP6OutputCube', 'MarbleCMIP5Cube']"
      ]
     },
     "execution_count": 9,
     "metadata": {},
     "output_type": "execute_result"
    }
   ],
   "source": [
    "[\n",
    "    el for el in dir(iris_cube_wrappers)\n",
    "    if el.endswith(\"Cube\") and not (el.startswith(\"_\") or el.startswith(\"SCM\"))\n",
    "]"
   ]
  },
  {
   "cell_type": "markdown",
   "metadata": {},
   "source": [
    "## CMIP6Input4MIPsCube"
   ]
  },
  {
   "cell_type": "code",
   "execution_count": 10,
   "metadata": {},
   "outputs": [
    {
     "ename": "AttributeError",
     "evalue": "'CMIP6Input4MIPsCube' object has no attribute 'get_data_reference_syntax'",
     "output_type": "error",
     "traceback": [
      "\u001b[0;31m---------------------------------------------------------------------------\u001b[0m",
      "\u001b[0;31mAttributeError\u001b[0m                            Traceback (most recent call last)",
      "\u001b[0;32m<ipython-input-10-626831e0ce9a>\u001b[0m in \u001b[0;36m<module>\u001b[0;34m\u001b[0m\n\u001b[1;32m      1\u001b[0m \u001b[0;32mfrom\u001b[0m \u001b[0mnetcdf_scm\u001b[0m\u001b[0;34m.\u001b[0m\u001b[0miris_cube_wrappers\u001b[0m \u001b[0;32mimport\u001b[0m \u001b[0mCMIP6Input4MIPsCube\u001b[0m\u001b[0;34m\u001b[0m\u001b[0;34m\u001b[0m\u001b[0m\n\u001b[1;32m      2\u001b[0m \u001b[0mcube_instance\u001b[0m \u001b[0;34m=\u001b[0m \u001b[0mCMIP6Input4MIPsCube\u001b[0m\u001b[0;34m(\u001b[0m\u001b[0;34m)\u001b[0m\u001b[0;34m\u001b[0m\u001b[0;34m\u001b[0m\u001b[0m\n\u001b[0;32m----> 3\u001b[0;31m \u001b[0mcube_instance\u001b[0m\u001b[0;34m.\u001b[0m\u001b[0mget_data_reference_syntax\u001b[0m\u001b[0;34m(\u001b[0m\u001b[0;34m)\u001b[0m\u001b[0;34m\u001b[0m\u001b[0;34m\u001b[0m\u001b[0m\n\u001b[0m",
      "\u001b[0;31mAttributeError\u001b[0m: 'CMIP6Input4MIPsCube' object has no attribute 'get_data_reference_syntax'"
     ]
    }
   ],
   "source": [
    "from netcdf_scm.iris_cube_wrappers import CMIP6Input4MIPsCube\n",
    "CMIP6Input4MIPsCube.get_data_reference_syntax()"
   ]
  },
  {
   "cell_type": "markdown",
   "metadata": {},
   "source": [
    "Including a `.` in the file extension makes this looks more as expected."
   ]
  },
  {
   "cell_type": "code",
   "execution_count": 11,
   "metadata": {},
   "outputs": [
    {
     "ename": "AttributeError",
     "evalue": "'CMIP6Input4MIPsCube' object has no attribute 'get_data_reference_syntax'",
     "output_type": "error",
     "traceback": [
      "\u001b[0;31m---------------------------------------------------------------------------\u001b[0m",
      "\u001b[0;31mAttributeError\u001b[0m                            Traceback (most recent call last)",
      "\u001b[0;32m<ipython-input-11-2a02f9085bfa>\u001b[0m in \u001b[0;36m<module>\u001b[0;34m\u001b[0m\n\u001b[0;32m----> 1\u001b[0;31m cube_instance.get_data_reference_syntax(\n\u001b[0m\u001b[1;32m      2\u001b[0m     \u001b[0mfile_ext\u001b[0m\u001b[0;34m=\u001b[0m\u001b[0;34m\".nc\"\u001b[0m\u001b[0;34m\u001b[0m\u001b[0;34m\u001b[0m\u001b[0m\n\u001b[1;32m      3\u001b[0m )\n",
      "\u001b[0;31mAttributeError\u001b[0m: 'CMIP6Input4MIPsCube' object has no attribute 'get_data_reference_syntax'"
     ]
    }
   ],
   "source": [
    "cube_instance.get_data_reference_syntax(\n",
    "    file_ext=\".nc\"\n",
    ")"
   ]
  },
  {
   "cell_type": "markdown",
   "metadata": {},
   "source": [
    "Including the time range too completes the picture."
   ]
  },
  {
   "cell_type": "code",
   "execution_count": 12,
   "metadata": {},
   "outputs": [
    {
     "ename": "AttributeError",
     "evalue": "'CMIP6Input4MIPsCube' object has no attribute 'get_data_reference_syntax'",
     "output_type": "error",
     "traceback": [
      "\u001b[0;31m---------------------------------------------------------------------------\u001b[0m",
      "\u001b[0;31mAttributeError\u001b[0m                            Traceback (most recent call last)",
      "\u001b[0;32m<ipython-input-12-e7603d72a93f>\u001b[0m in \u001b[0;36m<module>\u001b[0;34m\u001b[0m\n\u001b[0;32m----> 1\u001b[0;31m cube_instance.get_data_reference_syntax(\n\u001b[0m\u001b[1;32m      2\u001b[0m     \u001b[0mtime_range\u001b[0m\u001b[0;34m=\u001b[0m\u001b[0;34m\"YYYY-YYYY\"\u001b[0m\u001b[0;34m,\u001b[0m\u001b[0;34m\u001b[0m\u001b[0;34m\u001b[0m\u001b[0m\n\u001b[1;32m      3\u001b[0m     \u001b[0mfile_ext\u001b[0m\u001b[0;34m=\u001b[0m\u001b[0;34m\".nc\"\u001b[0m\u001b[0;34m\u001b[0m\u001b[0;34m\u001b[0m\u001b[0m\n\u001b[1;32m      4\u001b[0m )\n",
      "\u001b[0;31mAttributeError\u001b[0m: 'CMIP6Input4MIPsCube' object has no attribute 'get_data_reference_syntax'"
     ]
    }
   ],
   "source": [
    "cube_instance.get_data_reference_syntax(\n",
    "    time_range=\"YYYY-YYYY\", \n",
    "    file_ext=\".nc\"\n",
    ")"
   ]
  },
  {
   "cell_type": "markdown",
   "metadata": {},
   "source": [
    "## MarbleCMIP5Cube"
   ]
  },
  {
   "cell_type": "code",
   "execution_count": 16,
   "metadata": {},
   "outputs": [
    {
     "ename": "AttributeError",
     "evalue": "'MarbleCMIP5Cube' object has no attribute 'get_data_reference_syntax'",
     "output_type": "error",
     "traceback": [
      "\u001b[0;31m---------------------------------------------------------------------------\u001b[0m",
      "\u001b[0;31mAttributeError\u001b[0m                            Traceback (most recent call last)",
      "\u001b[0;32m<ipython-input-16-a5a6d4c31cc7>\u001b[0m in \u001b[0;36m<module>\u001b[0;34m\u001b[0m\n\u001b[1;32m      1\u001b[0m \u001b[0;32mfrom\u001b[0m \u001b[0mnetcdf_scm\u001b[0m\u001b[0;34m.\u001b[0m\u001b[0miris_cube_wrappers\u001b[0m \u001b[0;32mimport\u001b[0m \u001b[0mMarbleCMIP5Cube\u001b[0m\u001b[0;34m\u001b[0m\u001b[0;34m\u001b[0m\u001b[0m\n\u001b[1;32m      2\u001b[0m \u001b[0mcube_instance\u001b[0m \u001b[0;34m=\u001b[0m \u001b[0mMarbleCMIP5Cube\u001b[0m\u001b[0;34m(\u001b[0m\u001b[0;34m)\u001b[0m\u001b[0;34m\u001b[0m\u001b[0;34m\u001b[0m\u001b[0m\n\u001b[0;32m----> 3\u001b[0;31m \u001b[0mcube_instance\u001b[0m\u001b[0;34m.\u001b[0m\u001b[0mget_data_reference_syntax\u001b[0m\u001b[0;34m(\u001b[0m\u001b[0;34m)\u001b[0m\u001b[0;34m\u001b[0m\u001b[0;34m\u001b[0m\u001b[0m\n\u001b[0m",
      "\u001b[0;31mAttributeError\u001b[0m: 'MarbleCMIP5Cube' object has no attribute 'get_data_reference_syntax'"
     ]
    }
   ],
   "source": [
    "from netcdf_scm.iris_cube_wrappers import MarbleCMIP5Cube\n",
    "cube_instance = MarbleCMIP5Cube()\n",
    "cube_instance.get_data_reference_syntax()"
   ]
  },
  {
   "cell_type": "markdown",
   "metadata": {},
   "source": [
    "## CMIP6OutputCube"
   ]
  },
  {
   "cell_type": "code",
   "execution_count": 14,
   "metadata": {},
   "outputs": [
    {
     "ename": "AttributeError",
     "evalue": "'CMIP6OutputCube' object has no attribute 'get_data_reference_syntax'",
     "output_type": "error",
     "traceback": [
      "\u001b[0;31m---------------------------------------------------------------------------\u001b[0m",
      "\u001b[0;31mAttributeError\u001b[0m                            Traceback (most recent call last)",
      "\u001b[0;32m<ipython-input-14-ff1d15caea2a>\u001b[0m in \u001b[0;36m<module>\u001b[0;34m\u001b[0m\n\u001b[1;32m      1\u001b[0m \u001b[0;32mfrom\u001b[0m \u001b[0mnetcdf_scm\u001b[0m\u001b[0;34m.\u001b[0m\u001b[0miris_cube_wrappers\u001b[0m \u001b[0;32mimport\u001b[0m \u001b[0mCMIP6OutputCube\u001b[0m\u001b[0;34m\u001b[0m\u001b[0;34m\u001b[0m\u001b[0m\n\u001b[1;32m      2\u001b[0m \u001b[0mcube_instance\u001b[0m \u001b[0;34m=\u001b[0m \u001b[0mCMIP6OutputCube\u001b[0m\u001b[0;34m(\u001b[0m\u001b[0;34m)\u001b[0m\u001b[0;34m\u001b[0m\u001b[0;34m\u001b[0m\u001b[0m\n\u001b[0;32m----> 3\u001b[0;31m \u001b[0mcube_instance\u001b[0m\u001b[0;34m.\u001b[0m\u001b[0mget_data_reference_syntax\u001b[0m\u001b[0;34m(\u001b[0m\u001b[0;34m)\u001b[0m\u001b[0;34m\u001b[0m\u001b[0;34m\u001b[0m\u001b[0m\n\u001b[0m",
      "\u001b[0;31mAttributeError\u001b[0m: 'CMIP6OutputCube' object has no attribute 'get_data_reference_syntax'"
     ]
    }
   ],
   "source": [
    "from netcdf_scm.iris_cube_wrappers import CMIP6OutputCube\n",
    "cube_instance = CMIP6OutputCube()\n",
    "cube_instance.get_data_reference_syntax()"
   ]
  },
  {
   "cell_type": "markdown",
   "metadata": {},
   "source": [
    "Printing the cube's docstring provides the link to the data reference syntax page (between the carets i.e. between the `<` and `>`)."
   ]
  },
  {
   "cell_type": "code",
   "execution_count": 18,
   "metadata": {},
   "outputs": [],
   "source": [
    "# in a notebook, putting a question mark after an object/function/method\n",
    "# is a nice shortcut to see the docstring\n",
    "cube_instance?"
   ]
  },
  {
   "cell_type": "code",
   "execution_count": 19,
   "metadata": {},
   "outputs": [
    {
     "name": "stdout",
     "output_type": "stream",
     "text": [
      "\n",
      "    Subclass of ``SCMCube`` which can be used with CMIP6 model output data\n",
      "\n",
      "    The data must match the CMIP6 data reference syntax as specified in the 'File name\n",
      "    template' and 'Directory structure template' sections of the\n",
      "    `CMIP6 Data Reference Syntax <https://goo.gl/v1drZl>`_.\n",
      "    \n"
     ]
    }
   ],
   "source": [
    "CMIP6OutputCube?\n",
    "print(CMIP6OutputCube.__doc__)"
   ]
  }
 ],
 "metadata": {
  "kernelspec": {
   "display_name": "Python 3",
   "language": "python",
   "name": "python3"
  },
  "language_info": {
   "codemirror_mode": {
    "name": "ipython",
    "version": 3
   },
   "file_extension": ".py",
   "mimetype": "text/x-python",
   "name": "python",
   "nbconvert_exporter": "python",
   "pygments_lexer": "ipython3",
   "version": "3.7.3"
  }
 },
 "nbformat": 4,
 "nbformat_minor": 2
}
