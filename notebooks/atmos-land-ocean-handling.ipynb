{
 "cells": [
  {
   "cell_type": "markdown",
   "metadata": {},
   "source": [
    "# Atmospheric, oceanic and land data handling\n",
    "\n",
    "In this notebook we discuss the subtleties of how NetCDF-SCM handles different data 'realms' and why these choices are made. The realms of intereset to date are atmosphere, ocean and land and the discussion between the realms follows the [CMIP6 realm controlled vocabulary](https://github.com/WCRP-CMIP/CMIP6_CVs/blob/master/CMIP6_realm.json)."
   ]
  },
  {
   "cell_type": "markdown",
   "metadata": {},
   "source": [
    "TODO: make this notebook follow something like the following outline\n",
    "\n",
    "1. Oceanic data handling\n",
    "    - choices\n",
    "        - areacello and stfof weighted means\n",
    "        - assume everything is ocean (i.e. all land weights are zero)\n",
    "    - why\n",
    "        - there is no land box relevant data in ocean output\n",
    "        - area as otherwise your output is nonsense\n",
    "        - sftof so you're not overweighting cells which aren't really representative of the ocean\n",
    "        - show plots to show difference made by these choices\n",
    "1. Land data handling\n",
    "    - choices\n",
    "        - areacella and stflf weighted means\n",
    "        - assume everything is land (i.e. all ocean weights are zero)\n",
    "    - why\n",
    "        - there is no ocean box relevant data in land output\n",
    "        - area as otherwise your output is nonsense\n",
    "        - sftlf so you're not overweighting cells which aren't really representative of the land\n",
    "        - show plots to show difference made by these choices\n",
    "1. Atmospheric data handling\n",
    "    - choices\n",
    "        - areacella weighted means\n",
    "            - land box means are further weighted by sftlf\n",
    "            - ocean box means are further weighted by (100 - sftlf)\n",
    "    - why\n",
    "        - contribution of data to SCM boxes depends on land fraction\n",
    "        - area as otherwise your output is nonsense\n",
    "        - sftlf so you split land/ocean data appropriately\n",
    "        - show plots to show difference made by these choices"
   ]
  },
  {
   "cell_type": "code",
   "execution_count": 1,
   "metadata": {},
   "outputs": [
    {
     "data": {
      "application/javascript": [
       "IPython.OutputArea.prototype._should_scroll = function(lines) { return false; }"
      ],
      "text/plain": [
       "<IPython.core.display.Javascript object>"
      ]
     },
     "metadata": {},
     "output_type": "display_data"
    }
   ],
   "source": [
    "from os.path import join\n",
    "\n",
    "import iris\n",
    "import iris.quickplot as qplt\n",
    "import matplotlib.pyplot as plt\n",
    "import numpy as np\n",
    "\n",
    "from netcdf_scm.iris_cube_wrappers import CMIP6OutputCube\n",
    "from netcdf_scm.utils import broadcast_onto_lat_lon_grid"
   ]
  },
  {
   "cell_type": "code",
   "execution_count": 2,
   "metadata": {},
   "outputs": [],
   "source": [
    "from pandas.plotting import register_matplotlib_converters\n",
    "register_matplotlib_converters()"
   ]
  },
  {
   "cell_type": "code",
   "execution_count": 3,
   "metadata": {},
   "outputs": [],
   "source": [
    "import logging\n",
    "root_logger = logging.getLogger()\n",
    "root_logger.setLevel(logging.WARNING)\n",
    "root_logger.addHandler(logging.StreamHandler())"
   ]
  },
  {
   "cell_type": "code",
   "execution_count": 4,
   "metadata": {},
   "outputs": [],
   "source": [
    "DATA_PATH_TEST = join(\"..\", \"tests\", \"test-data\")"
   ]
  },
  {
   "cell_type": "code",
   "execution_count": 13,
   "metadata": {},
   "outputs": [],
   "source": [
    "tas_file = join(\n",
    "    DATA_PATH_TEST,\n",
    "    \"cmip6output\",\n",
    "    \"CMIP6\",\n",
    "    \"CMIP\",\n",
    "    \"CNRM-CERFACS\",\n",
    "    \"CNRM-ESM2-1\",\n",
    "    \"historical\",\n",
    "    \"r2i1p1f2\",\n",
    "    \"Amon\",\n",
    "    \"tas\",\n",
    "    \"gr\",\n",
    "    \"v20190125\",\n",
    "    \"tas_Amon_CNRM-ESM2-1_historical_r2i1p1f2_gr_199701-199912.nc\",\n",
    ")\n",
    "\n",
    "gpp_file = tas_file.replace(\n",
    "    \"Amon\", \"Lmon\"\n",
    ").replace(\n",
    "    \"tas\", \"gpp\"\n",
    ")\n",
    "\n",
    "csoilfast_file = gpp_file.replace(\"gpp\", \"cSoilFast\")\n",
    "\n",
    "hfds_file = tas_file.replace(\n",
    "    \"Amon\", \"Omon\"\n",
    ").replace(\n",
    "    \"gr\", \"gn\"\n",
    ").replace(\"tas\", \"hfds\")"
   ]
  },
  {
   "cell_type": "markdown",
   "metadata": {},
   "source": [
    "## Oceans\n",
    "\n",
    "Ocean model output is the simplest to deal with. "
   ]
  },
  {
   "cell_type": "code",
   "execution_count": 12,
   "metadata": {},
   "outputs": [
    {
     "name": "stderr",
     "output_type": "stream",
     "text": [
      "Missing CF-netCDF measure variable 'areacello', referenced by netCDF variable 'hfds'\n"
     ]
    }
   ],
   "source": [
    "tas = CMIP6OutputCube()\n",
    "tas.load_data_from_path(tas_file)\n",
    "\n",
    "gpp = CMIP6OutputCube()\n",
    "gpp.load_data_from_path(gpp_file)\n",
    "\n",
    "csoilfast = CMIP6OutputCube()\n",
    "csoilfast.load_data_from_path(csoilfast_file)\n",
    "\n",
    "hfdsfast = CMIP6OutputCube()\n",
    "hfdsfast.load_data_from_path(hfds_file)"
   ]
  },
  {
   "cell_type": "code",
   "execution_count": null,
   "metadata": {},
   "outputs": [],
   "source": [
    "tas.cube"
   ]
  },
  {
   "cell_type": "code",
   "execution_count": null,
   "metadata": {},
   "outputs": [],
   "source": [
    "gpp.cube"
   ]
  },
  {
   "cell_type": "code",
   "execution_count": null,
   "metadata": {},
   "outputs": [],
   "source": [
    "csoilfast.cube"
   ]
  },
  {
   "cell_type": "code",
   "execution_count": null,
   "metadata": {},
   "outputs": [],
   "source": [
    "sftlf = tas.get_metadata_cube(\"sftlf\")\n",
    "sftlf.cube"
   ]
  },
  {
   "cell_type": "code",
   "execution_count": null,
   "metadata": {},
   "outputs": [],
   "source": [
    "areacella = tas.get_metadata_cube(\"areacella\")\n",
    "areacella.cube"
   ]
  },
  {
   "cell_type": "code",
   "execution_count": null,
   "metadata": {},
   "outputs": [],
   "source": [
    "tas_land = tas.get_scm_cubes(masks=[\"World|Land\"])[\"World|Land\"]"
   ]
  },
  {
   "cell_type": "code",
   "execution_count": null,
   "metadata": {},
   "outputs": [],
   "source": [
    "plt.figure(figsize=(16, 9))\n",
    "qplt.contourf(tas_land.cube[0, :, :]);"
   ]
  },
  {
   "cell_type": "code",
   "execution_count": null,
   "metadata": {},
   "outputs": [],
   "source": [
    "tas_land_unweighted_mean = tas_land.cube.collapsed(\n",
    "    [\"latitude\", \"longitude\"],\n",
    "    iris.analysis.MEAN\n",
    ")\n",
    "\n",
    "area_weights = broadcast_onto_lat_lon_grid(tas_land, areacella.cube.data)\n",
    "tas_land_area_weighted_mean= tas_land.cube.collapsed(\n",
    "    [\"latitude\", \"longitude\"],\n",
    "    iris.analysis.MEAN,\n",
    "    weights=area_weights\n",
    ")\n",
    "\n",
    "try:\n",
    "    tas_land.cube.coord(\"latitude\").guess_bounds()\n",
    "    tas_land.cube.coord(\"longitude\").guess_bounds()\n",
    "except ValueError:\n",
    "    pass\n",
    "\n",
    "tas_land_default_area_weighted_mean = tas_land.cube.collapsed(\n",
    "    [\"latitude\", \"longitude\"],\n",
    "    iris.analysis.MEAN,\n",
    "    weights=iris.analysis.cartography.area_weights(tas_land.cube)\n",
    ")\n",
    "\n",
    "area_sftlf_weights = broadcast_onto_lat_lon_grid(tas_land, areacella.cube.data * sftlf.cube.data)\n",
    "tas_land_area_sftlf_weighted_mean = tas_land.cube.collapsed(\n",
    "    [\"latitude\", \"longitude\"],\n",
    "    iris.analysis.MEAN,\n",
    "    weights=area_sftlf_weights\n",
    ")"
   ]
  },
  {
   "cell_type": "code",
   "execution_count": null,
   "metadata": {},
   "outputs": [],
   "source": [
    "plt.figure(figsize=(16, 9))\n",
    "qplt.plot(tas_land_unweighted_mean, label=\"unweighted\")\n",
    "qplt.plot(tas_land_area_weighted_mean, label=\"areacella weighted\")\n",
    "qplt.plot(\n",
    "    tas_land_default_area_weighted_mean, \n",
    "    label=\"area weighted assuming regular grid\", \n",
    "    linestyle=\"--\",\n",
    "    dashes=(7, 15)\n",
    ")\n",
    "qplt.plot(\n",
    "    tas_land_area_sftlf_weighted_mean, \n",
    "    label=\"areacella-sftlf weighted\", \n",
    "    linestyle=\":\",\n",
    ")\n",
    "\n",
    "plt.legend();"
   ]
  },
  {
   "cell_type": "code",
   "execution_count": null,
   "metadata": {},
   "outputs": [],
   "source": [
    "plt.figure(figsize=(16, 9))\n",
    "qplt.contourf(sftlf.cube)\n",
    "plt.gca().coastlines();"
   ]
  },
  {
   "cell_type": "code",
   "execution_count": null,
   "metadata": {},
   "outputs": [],
   "source": [
    "no_weights = areacella.cube.copy()\n",
    "no_weights.data = np.ones_like(no_weights.data)\n",
    "\n",
    "default_weights = areacella.cube.copy()\n",
    "default_weights.data = iris.analysis.cartography.area_weights(tas_land.cube)[0, :, :]\n",
    "default_weights.data = default_weights.data / default_weights.data.sum()\n",
    "\n",
    "areacella_weights = areacella.cube.copy()\n",
    "areacella_weights.data = areacella_weights.data / areacella_weights.data.sum()\n",
    "\n",
    "areacella_sftlf_weights = areacella.cube.copy()\n",
    "areacella_sftlf_weights.data = area_sftlf_weights[0, :, :]\n",
    "areacella_sftlf_weights.data = areacella_sftlf_weights.data / areacella_sftlf_weights.data.sum()"
   ]
  },
  {
   "cell_type": "code",
   "execution_count": null,
   "metadata": {},
   "outputs": [],
   "source": [
    "plt.figure(figsize=(16, 9))\n",
    "plt.subplot(221)\n",
    "qplt.contourf(no_weights)\n",
    "plt.gca().coastlines()\n",
    "plt.subplot(222)\n",
    "qplt.contourf(areacella_weights)\n",
    "plt.gca().coastlines()\n",
    "plt.subplot(223)\n",
    "qplt.contourf(default_weights)\n",
    "plt.gca().coastlines()\n",
    "plt.subplot(224)\n",
    "qplt.contourf(areacella_sftlf_weights)\n",
    "plt.gca().coastlines();"
   ]
  },
  {
   "cell_type": "code",
   "execution_count": null,
   "metadata": {},
   "outputs": [],
   "source": [
    "plt.figure(figsize=(16, 9))\n",
    "qplt.contourf(areacella_sftlf_weights)\n",
    "plt.gca().coastlines();"
   ]
  },
  {
   "cell_type": "code",
   "execution_count": null,
   "metadata": {},
   "outputs": [],
   "source": [
    "(tas_land.cube[0, :, :].data.mask == (sftlf.cube.data < 50).data).all()"
   ]
  },
  {
   "cell_type": "code",
   "execution_count": null,
   "metadata": {},
   "outputs": [],
   "source": [
    "lat_con = iris.Constraint(latitude=lambda cell: -45 < cell < -20)\n",
    "lon_con = iris.Constraint(longitude=lambda cell: 140 < cell < 160)\n",
    "plt.figure(figsize=(16, 9))\n",
    "\n",
    "plt.subplot(131)\n",
    "qplt.contourf((tas.cube[0, :, :] / tas.cube[0, :, :]).extract(\n",
    "    lat_con & lon_con\n",
    "))#, levels=np.arange(290, 314, 0.1))\n",
    "plt.gca().coastlines()\n",
    "plt.title(\"raw data\")\n",
    "\n",
    "plt.subplot(132)\n",
    "qplt.contourf((tas_land.cube[0, :, :] / tas_land.cube[0, :, :]).extract(\n",
    "    lat_con & lon_con\n",
    "))#, levels=np.arange(290, 314, 0.1))\n",
    "plt.gca().coastlines()\n",
    "plt.title(\"masked data\")\n",
    "\n",
    "plt.subplot(133)\n",
    "qplt.contour(sftlf.cube.extract(\n",
    "    lat_con & lon_con\n",
    "), levels=[0, 40, 45, 50, 55, 60, 100])\n",
    "plt.gca().coastlines()\n",
    "plt.title(\"sftlf data\");"
   ]
  },
  {
   "cell_type": "code",
   "execution_count": null,
   "metadata": {},
   "outputs": [],
   "source": [
    "plt.figure(figsize=(16, 9))\n",
    "\n",
    "plt.subplot(221)\n",
    "qplt.contourf(tas_land.cube[0, :, :].extract(\n",
    "    lat_con & lon_con\n",
    "), levels=np.arange(290, 314, 2))\n",
    "plt.gca().coastlines()\n",
    "plt.title(\"masked data\")\n",
    "\n",
    "plt.subplot(222)\n",
    "qplt.contourf(sftlf.cube.extract(\n",
    "    lat_con & lon_con\n",
    "))\n",
    "plt.gca().coastlines()\n",
    "plt.title(\"sftlf\")\n",
    "\n",
    "plt.subplot(223)\n",
    "qplt.contourf(areacella_sftlf_weights.extract(\n",
    "    lat_con & lon_con\n",
    "))\n",
    "plt.gca().coastlines()\n",
    "plt.title(\"areacella-sftlf weighting\")\n",
    "\n",
    "plt.subplot(224)\n",
    "qplt.contourf(areacella_weights.extract(\n",
    "    lat_con & lon_con\n",
    "))\n",
    "plt.gca().coastlines()\n",
    "plt.title(\"areacella weighting\");"
   ]
  },
  {
   "cell_type": "code",
   "execution_count": null,
   "metadata": {},
   "outputs": [],
   "source": [
    "csoilfast_unweighted_mean = csoilfast.cube.collapsed(\n",
    "    [\"latitude\", \"longitude\"],\n",
    "    iris.analysis.MEAN\n",
    ")\n",
    "\n",
    "area_weights = broadcast_onto_lat_lon_grid(csoilfast, areacella.cube.data)\n",
    "csoilfast_area_weighted_mean= csoilfast.cube.collapsed(\n",
    "    [\"latitude\", \"longitude\"],\n",
    "    iris.analysis.MEAN,\n",
    "    weights=area_weights\n",
    ")\n",
    "\n",
    "try:\n",
    "    csoilfast.cube.coord(\"latitude\").guess_bounds()\n",
    "    csoilfast.cube.coord(\"longitude\").guess_bounds()\n",
    "except ValueError:\n",
    "    pass\n",
    "\n",
    "csoilfast_default_area_weighted_mean = csoilfast.cube.collapsed(\n",
    "    [\"latitude\", \"longitude\"],\n",
    "    iris.analysis.MEAN,\n",
    "    weights=iris.analysis.cartography.area_weights(csoilfast.cube)\n",
    ")\n",
    "\n",
    "area_sftlf_weights = broadcast_onto_lat_lon_grid(csoilfast, areacella.cube.data * sftlf.cube.data)\n",
    "csoilfast_area_sftlf_weighted_mean = csoilfast.cube.collapsed(\n",
    "    [\"latitude\", \"longitude\"],\n",
    "    iris.analysis.MEAN,\n",
    "    weights=area_sftlf_weights\n",
    ")\n",
    "plt.figure(figsize=(16, 9))\n",
    "qplt.plot(csoilfast_unweighted_mean, label=\"unweighted\")\n",
    "qplt.plot(csoilfast_area_weighted_mean, label=\"areacella weighted\")\n",
    "qplt.plot(\n",
    "    csoilfast_default_area_weighted_mean, \n",
    "    label=\"area weighted assuming regular grid\", \n",
    "    linestyle=\"--\",\n",
    "    dashes=(7, 15)\n",
    ")\n",
    "qplt.plot(\n",
    "    csoilfast_area_sftlf_weighted_mean, \n",
    "    label=\"areacella-sftlf weighted\", \n",
    "    linestyle=\":\",\n",
    ")\n",
    "\n",
    "plt.legend();"
   ]
  },
  {
   "cell_type": "code",
   "execution_count": null,
   "metadata": {},
   "outputs": [],
   "source": [
    "lat_con = iris.Constraint(latitude=lambda cell: -45 < cell < -20)\n",
    "lon_con = iris.Constraint(longitude=lambda cell: 140 < cell < 160)\n",
    "plt.figure(figsize=(16, 9))\n",
    "\n",
    "# plt.subplot(111)\n",
    "qplt.contour(csoilfast.cube[0, :, :].extract(\n",
    "    lat_con & lon_con\n",
    "))#, levels=np.arange(290, 314, 2))\n",
    "plt.gca().coastlines()\n",
    "plt.title(\"raw data\")"
   ]
  },
  {
   "cell_type": "code",
   "execution_count": null,
   "metadata": {},
   "outputs": [],
   "source": [
    "csoilfast.cube"
   ]
  },
  {
   "cell_type": "code",
   "execution_count": null,
   "metadata": {},
   "outputs": [],
   "source": [
    "csoilfast.cube[0, :, :].data"
   ]
  }
 ],
 "metadata": {
  "kernelspec": {
   "display_name": "Python 3",
   "language": "python",
   "name": "python3"
  },
  "language_info": {
   "codemirror_mode": {
    "name": "ipython",
    "version": 3
   },
   "file_extension": ".py",
   "mimetype": "text/x-python",
   "name": "python",
   "nbconvert_exporter": "python",
   "pygments_lexer": "ipython3",
   "version": "3.7.3"
  }
 },
 "nbformat": 4,
 "nbformat_minor": 2
}
