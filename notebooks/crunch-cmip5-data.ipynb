{
 "cells": [
  {
   "cell_type": "markdown",
   "metadata": {},
   "source": [
    "# Crunching CMIP5 data\n",
    "\n",
    "In this notebook we give a very brief example of how we can crunch CMIP5 data using NetCDFSCM. This is highly experimental and this notebook is pretty stupid given that it's really a command-line tool."
   ]
  },
  {
   "cell_type": "code",
   "execution_count": 1,
   "metadata": {},
   "outputs": [
    {
     "name": "stdout",
     "output_type": "stream",
     "text": [
      "Usage: netcdf-scm-crunch [OPTIONS] SRC DST CRUNCH_CONTACT\r\n",
      "\r\n",
      "  Crunch data in ``src`` to NetCDF-SCM ``.nc`` files in ``dst``.\r\n",
      "\r\n",
      "  ``src`` is searched recursively and netcdf-scm will attempt to crunch all\r\n",
      "  the files found. The directory structure in ``src`` will be mirrored in\r\n",
      "  ``dst``.\r\n",
      "\r\n",
      "  Failures and warnings are recorded and written into a text file in\r\n",
      "  ``dst``.\r\n",
      "\r\n",
      "  ``crunch_contact`` is written into the output ``.nc`` files'\r\n",
      "  ``crunch_contact`` attribute.\r\n",
      "\r\n",
      "Options:\r\n",
      "  --cube-type [Scm|MarbleCMIP5|CMIP6Input4MIPs|CMIP6Output]\r\n",
      "                                  Cube to use for crunching.  [default: Scm]\r\n",
      "  --regexp TEXT                   Regular expression to apply to filepath\r\n",
      "                                  (only crunches matches).  [default:\r\n",
      "                                  ^((?!fx).)*$]\r\n",
      "  --land-mask-threshold FLOAT     Minimum land fraction for a box to be\r\n",
      "                                  considered land.  [default: 50.0]\r\n",
      "  --data-sub-dir TEXT             Sub-directory of ``dst`` to save data in.\r\n",
      "                                  [default: netcdf-scm-crunched]\r\n",
      "  -f, --force / --do-not-force    Overwrite any existing files.  [default:\r\n",
      "                                  False]\r\n",
      "  -h, --help                      Show this message and exit.\r\n"
     ]
    }
   ],
   "source": [
    "!netcdf-scm-crunch -h"
   ]
  },
  {
   "cell_type": "code",
   "execution_count": 2,
   "metadata": {},
   "outputs": [
    {
     "name": "stdout",
     "output_type": "stream",
     "text": [
      "Visiting directory 51 of 51. Current directory :: uninitialised                                                                                                                                                                                                                                                                                                                                                                                                   \n",
      "Visiting directory 51 of 51. Current directory :: /home/zebedee/Documents/AGCEC/Misc/netcdf-scm/tests/test-data/marble-cmip5/cmip5/1pctCO2/Amon/tas/CanESM2/r1i1p1                                                                                                                                                                                                                                                                                                2019-06-17 12:39:32,851 ERROR:netcdf_scm.iris_cube_wrappers:Missing CF-netCDF measure variable 'areacella', referenced by netCDF variable 'tas'. Tried to add areacella cube but another exception was raised:\n",
      "Traceback (most recent call last):\n",
      "  File \"/home/zebedee/Documents/AGCEC/Misc/netcdf-scm/src/netcdf_scm/iris_cube_wrappers.py\", line 499, in _process_load_data_from_identifiers_warnings\n",
      "    self._add_areacella_measure()\n",
      "  File \"/home/zebedee/Documents/AGCEC/Misc/netcdf-scm/src/netcdf_scm/iris_cube_wrappers.py\", line 509, in _add_areacella_measure\n",
      "    areacella_cube = self.get_metadata_cube(self.areacella_var).cube\n",
      "  File \"/home/zebedee/Documents/AGCEC/Misc/netcdf-scm/src/netcdf_scm/iris_cube_wrappers.py\", line 604, in get_metadata_cube\n",
      "    cube.load_data_from_identifiers(**load_args)\n",
      "  File \"/home/zebedee/Documents/AGCEC/Misc/netcdf-scm/src/netcdf_scm/iris_cube_wrappers.py\", line 487, in load_data_from_identifiers\n",
      "    **kwargs\n",
      "  File \"/home/zebedee/Documents/AGCEC/Misc/netcdf-scm/src/netcdf_scm/iris_cube_wrappers.py\", line 211, in _load_cube\n",
      "    self.cube = iris.load_cube(filepath, constraint=constraint)\n",
      "  File \"/home/zebedee/miniconda3/envs/netcdf-scm/lib/python3.7/site-packages/iris/__init__.py\", line 373, in load_cube\n",
      "    cubes = _load_collection(uris, constraints, callback)\n",
      "  File \"/home/zebedee/miniconda3/envs/netcdf-scm/lib/python3.7/site-packages/iris/__init__.py\", line 313, in _load_collection\n",
      "    result = iris.cube._CubeFilterCollection.from_cubes(cubes, constraints)\n",
      "  File \"/home/zebedee/miniconda3/envs/netcdf-scm/lib/python3.7/site-packages/iris/cube.py\", line 145, in from_cubes\n",
      "    for cube in cubes:\n",
      "  File \"/home/zebedee/miniconda3/envs/netcdf-scm/lib/python3.7/site-packages/iris/__init__.py\", line 300, in _generate_cubes\n",
      "    for cube in iris.io.load_files(part_names, callback, constraints):\n",
      "  File \"/home/zebedee/miniconda3/envs/netcdf-scm/lib/python3.7/site-packages/iris/io/__init__.py\", line 193, in load_files\n",
      "    all_file_paths = expand_filespecs(filenames)\n",
      "  File \"/home/zebedee/miniconda3/envs/netcdf-scm/lib/python3.7/site-packages/iris/io/__init__.py\", line 176, in expand_filespecs\n",
      "    raise IOError(msg)\n",
      "OSError: One or more of the files specified did not exist:\n",
      "    * \"/home/zebedee/Documents/AGCEC/Misc/netcdf-scm/tests/test-data/marble-cmip5/cmip5/rcp45/fx/areacella/HadCM3/r0i0p0/areacella_fx_HadCM3_rcp45_r0i0p0.nc\" didn't match any files\n",
      "2019-06-17 12:39:32,935 ERROR:netcdf_scm.iris_cube_wrappers:Missing CF-netCDF measure variable 'areacella', referenced by netCDF variable 'tas'. Tried to add areacella cube but another exception was raised:\n",
      "Traceback (most recent call last):\n",
      "  File \"/home/zebedee/Documents/AGCEC/Misc/netcdf-scm/src/netcdf_scm/iris_cube_wrappers.py\", line 499, in _process_load_data_from_identifiers_warnings\n",
      "    self._add_areacella_measure()\n",
      "  File \"/home/zebedee/Documents/AGCEC/Misc/netcdf-scm/src/netcdf_scm/iris_cube_wrappers.py\", line 509, in _add_areacella_measure\n",
      "    areacella_cube = self.get_metadata_cube(self.areacella_var).cube\n",
      "  File \"/home/zebedee/Documents/AGCEC/Misc/netcdf-scm/src/netcdf_scm/iris_cube_wrappers.py\", line 604, in get_metadata_cube\n",
      "    cube.load_data_from_identifiers(**load_args)\n",
      "  File \"/home/zebedee/Documents/AGCEC/Misc/netcdf-scm/src/netcdf_scm/iris_cube_wrappers.py\", line 487, in load_data_from_identifiers\n",
      "    **kwargs\n",
      "  File \"/home/zebedee/Documents/AGCEC/Misc/netcdf-scm/src/netcdf_scm/iris_cube_wrappers.py\", line 211, in _load_cube\n",
      "    self.cube = iris.load_cube(filepath, constraint=constraint)\n",
      "  File \"/home/zebedee/miniconda3/envs/netcdf-scm/lib/python3.7/site-packages/iris/__init__.py\", line 373, in load_cube\n",
      "    cubes = _load_collection(uris, constraints, callback)\n",
      "  File \"/home/zebedee/miniconda3/envs/netcdf-scm/lib/python3.7/site-packages/iris/__init__.py\", line 313, in _load_collection\n",
      "    result = iris.cube._CubeFilterCollection.from_cubes(cubes, constraints)\n",
      "  File \"/home/zebedee/miniconda3/envs/netcdf-scm/lib/python3.7/site-packages/iris/cube.py\", line 145, in from_cubes\n",
      "    for cube in cubes:\n",
      "  File \"/home/zebedee/miniconda3/envs/netcdf-scm/lib/python3.7/site-packages/iris/__init__.py\", line 300, in _generate_cubes\n",
      "    for cube in iris.io.load_files(part_names, callback, constraints):\n",
      "  File \"/home/zebedee/miniconda3/envs/netcdf-scm/lib/python3.7/site-packages/iris/io/__init__.py\", line 193, in load_files\n",
      "    all_file_paths = expand_filespecs(filenames)\n",
      "  File \"/home/zebedee/miniconda3/envs/netcdf-scm/lib/python3.7/site-packages/iris/io/__init__.py\", line 176, in expand_filespecs\n",
      "    raise IOError(msg)\n",
      "OSError: One or more of the files specified did not exist:\n",
      "    * \"/home/zebedee/Documents/AGCEC/Misc/netcdf-scm/tests/test-data/marble-cmip5/cmip5/rcp45/fx/areacella/HadCM3/r0i0p0/areacella_fx_HadCM3_rcp45_r0i0p0.nc\" didn't match any files\n",
      "Visiting directory 51 of 51. Current directory :: /home/zebedee/Documents/AGCEC/Misc/netcdf-scm/tests/test-data/marble-cmip5/cmip5/rcp45/Amon/tas/ACCESS1-0/r1i1p1                                                                                                                                                                                                                                                                                                2019-06-17 12:39:33,489 ERROR:netcdf_scm.iris_cube_wrappers:Missing CF-netCDF measure variable 'areacella', referenced by netCDF variable 'tas'. Tried to add areacella cube but another exception was raised:\n",
      "Traceback (most recent call last):\n",
      "  File \"/home/zebedee/Documents/AGCEC/Misc/netcdf-scm/src/netcdf_scm/iris_cube_wrappers.py\", line 499, in _process_load_data_from_identifiers_warnings\n",
      "    self._add_areacella_measure()\n",
      "  File \"/home/zebedee/Documents/AGCEC/Misc/netcdf-scm/src/netcdf_scm/iris_cube_wrappers.py\", line 509, in _add_areacella_measure\n",
      "    areacella_cube = self.get_metadata_cube(self.areacella_var).cube\n",
      "  File \"/home/zebedee/Documents/AGCEC/Misc/netcdf-scm/src/netcdf_scm/iris_cube_wrappers.py\", line 604, in get_metadata_cube\n",
      "    cube.load_data_from_identifiers(**load_args)\n",
      "  File \"/home/zebedee/Documents/AGCEC/Misc/netcdf-scm/src/netcdf_scm/iris_cube_wrappers.py\", line 487, in load_data_from_identifiers\n",
      "    **kwargs\n",
      "  File \"/home/zebedee/Documents/AGCEC/Misc/netcdf-scm/src/netcdf_scm/iris_cube_wrappers.py\", line 211, in _load_cube\n",
      "    self.cube = iris.load_cube(filepath, constraint=constraint)\n",
      "  File \"/home/zebedee/miniconda3/envs/netcdf-scm/lib/python3.7/site-packages/iris/__init__.py\", line 373, in load_cube\n",
      "    cubes = _load_collection(uris, constraints, callback)\n",
      "  File \"/home/zebedee/miniconda3/envs/netcdf-scm/lib/python3.7/site-packages/iris/__init__.py\", line 313, in _load_collection\n",
      "    result = iris.cube._CubeFilterCollection.from_cubes(cubes, constraints)\n",
      "  File \"/home/zebedee/miniconda3/envs/netcdf-scm/lib/python3.7/site-packages/iris/cube.py\", line 145, in from_cubes\n",
      "    for cube in cubes:\n",
      "  File \"/home/zebedee/miniconda3/envs/netcdf-scm/lib/python3.7/site-packages/iris/__init__.py\", line 300, in _generate_cubes\n",
      "    for cube in iris.io.load_files(part_names, callback, constraints):\n",
      "  File \"/home/zebedee/miniconda3/envs/netcdf-scm/lib/python3.7/site-packages/iris/io/__init__.py\", line 193, in load_files\n",
      "    all_file_paths = expand_filespecs(filenames)\n",
      "  File \"/home/zebedee/miniconda3/envs/netcdf-scm/lib/python3.7/site-packages/iris/io/__init__.py\", line 176, in expand_filespecs\n",
      "    raise IOError(msg)\n",
      "OSError: One or more of the files specified did not exist:\n",
      "    * \"/home/zebedee/Documents/AGCEC/Misc/netcdf-scm/tests/test-data/marble-cmip5/cmip5/rcp26/fx/areacella/bcc-csm1-1/r0i0p0/areacella_fx_bcc-csm1-1_rcp26_r0i0p0.nc\" didn't match any files\n"
     ]
    },
    {
     "name": "stdout",
     "output_type": "stream",
     "text": [
      "2019-06-17 12:39:34,628 ERROR:netcdf_scm.iris_cube_wrappers:Missing CF-netCDF measure variable 'areacella', referenced by netCDF variable 'tas'. Tried to add areacella cube but another exception was raised:\r\n",
      "Traceback (most recent call last):\r\n",
      "  File \"/home/zebedee/Documents/AGCEC/Misc/netcdf-scm/src/netcdf_scm/iris_cube_wrappers.py\", line 499, in _process_load_data_from_identifiers_warnings\r\n",
      "    self._add_areacella_measure()\r\n",
      "  File \"/home/zebedee/Documents/AGCEC/Misc/netcdf-scm/src/netcdf_scm/iris_cube_wrappers.py\", line 509, in _add_areacella_measure\r\n",
      "    areacella_cube = self.get_metadata_cube(self.areacella_var).cube\r\n",
      "  File \"/home/zebedee/Documents/AGCEC/Misc/netcdf-scm/src/netcdf_scm/iris_cube_wrappers.py\", line 604, in get_metadata_cube\r\n",
      "    cube.load_data_from_identifiers(**load_args)\r\n",
      "  File \"/home/zebedee/Documents/AGCEC/Misc/netcdf-scm/src/netcdf_scm/iris_cube_wrappers.py\", line 487, in load_data_from_identifiers\r\n",
      "    **kwargs\r\n",
      "  File \"/home/zebedee/Documents/AGCEC/Misc/netcdf-scm/src/netcdf_scm/iris_cube_wrappers.py\", line 211, in _load_cube\r\n",
      "    self.cube = iris.load_cube(filepath, constraint=constraint)\r\n",
      "  File \"/home/zebedee/miniconda3/envs/netcdf-scm/lib/python3.7/site-packages/iris/__init__.py\", line 373, in load_cube\r\n",
      "    cubes = _load_collection(uris, constraints, callback)\r\n",
      "  File \"/home/zebedee/miniconda3/envs/netcdf-scm/lib/python3.7/site-packages/iris/__init__.py\", line 313, in _load_collection\r\n",
      "    result = iris.cube._CubeFilterCollection.from_cubes(cubes, constraints)\r\n",
      "  File \"/home/zebedee/miniconda3/envs/netcdf-scm/lib/python3.7/site-packages/iris/cube.py\", line 145, in from_cubes\r\n",
      "    for cube in cubes:\r\n",
      "  File \"/home/zebedee/miniconda3/envs/netcdf-scm/lib/python3.7/site-packages/iris/__init__.py\", line 300, in _generate_cubes\r\n",
      "    for cube in iris.io.load_files(part_names, callback, constraints):\r\n",
      "  File \"/home/zebedee/miniconda3/envs/netcdf-scm/lib/python3.7/site-packages/iris/io/__init__.py\", line 193, in load_files\r\n",
      "    all_file_paths = expand_filespecs(filenames)\r\n",
      "  File \"/home/zebedee/miniconda3/envs/netcdf-scm/lib/python3.7/site-packages/iris/io/__init__.py\", line 176, in expand_filespecs\r\n",
      "    raise IOError(msg)\r\n",
      "OSError: One or more of the files specified did not exist:\r\n",
      "    * \"/home/zebedee/Documents/AGCEC/Misc/netcdf-scm/tests/test-data/marble-cmip5/cmip5/rcp26/fx/areacella/bcc-csm1-1/r0i0p0/areacella_fx_bcc-csm1-1_rcp26_r0i0p0.nc\" didn't match any files\r\n"
     ]
    }
   ],
   "source": [
    "# NBVAL_IGNORE_OUTPUT\n",
    "!netcdf-scm-crunch \"../tests/test-data/marble-cmip5\" \"../output-examples/crunched-files\" \"notebook example <email address>\" --cube-type \"MarbleCMIP5\" --land-mask-threshold 50 --regexp \".*tas.*\""
   ]
  },
  {
   "cell_type": "markdown",
   "metadata": {},
   "source": [
    "The output is saved in a log file in the destination directory. It can be searched using any standard tool e.g. `grep`. The most useful keywords to search for are \"WARNING\" and \"ERROR\"."
   ]
  }
 ],
 "metadata": {
  "kernelspec": {
   "display_name": "Python 3",
   "language": "python",
   "name": "python3"
  },
  "language_info": {
   "codemirror_mode": {
    "name": "ipython",
    "version": 3
   },
   "file_extension": ".py",
   "mimetype": "text/x-python",
   "name": "python",
   "nbconvert_exporter": "python",
   "pygments_lexer": "ipython3",
   "version": "3.7.3"
  }
 },
 "nbformat": 4,
 "nbformat_minor": 2
}
