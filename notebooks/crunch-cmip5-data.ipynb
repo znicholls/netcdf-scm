{
 "cells": [
  {
   "cell_type": "markdown",
   "metadata": {},
   "source": [
    "# Crunching CMIP5 data\n",
    "\n",
    "In this notebook we give a very brief example of how we can crunch CMIP5 data using NetCDFSCM. This is highly experimental and this notebook is pretty stupid given that we really want a command-line tool implementation."
   ]
  },
  {
   "cell_type": "code",
   "execution_count": null,
   "metadata": {},
   "outputs": [],
   "source": [
    "!python ../scripts/crunch_to_scm.py -h"
   ]
  },
  {
   "cell_type": "code",
   "execution_count": null,
   "metadata": {},
   "outputs": [],
   "source": [
    "!python ../scripts/crunch_to_scm.py \"../tests/test-data/marble-cmip5\" \"../output-examples/crunched-files\" --land-mask-threshold 50 --var-to-crunch \"tas\""
   ]
  }
 ],
 "metadata": {
  "kernelspec": {
   "display_name": "Python 3",
   "language": "python",
   "name": "python3"
  },
  "language_info": {
   "codemirror_mode": {
    "name": "ipython",
    "version": 3
   },
   "file_extension": ".py",
   "mimetype": "text/x-python",
   "name": "python",
   "nbconvert_exporter": "python",
   "pygments_lexer": "ipython3",
   "version": "3.6.6"
  }
 },
 "nbformat": 4,
 "nbformat_minor": 2
}
